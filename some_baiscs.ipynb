{
  "nbformat": 4,
  "nbformat_minor": 0,
  "metadata": {
    "colab": {
      "provenance": [],
      "authorship_tag": "ABX9TyOUsIk3USSEkpz8Mhgw2XR8",
      "include_colab_link": true
    },
    "kernelspec": {
      "name": "python3",
      "display_name": "Python 3"
    },
    "language_info": {
      "name": "python"
    }
  },
  "cells": [
    {
      "cell_type": "markdown",
      "metadata": {
        "id": "view-in-github",
        "colab_type": "text"
      },
      "source": [
        "<a href=\"https://colab.research.google.com/github/GurungVinivesh/PracticePython/blob/main/some_baiscs.ipynb\" target=\"_parent\"><img src=\"https://colab.research.google.com/assets/colab-badge.svg\" alt=\"Open In Colab\"/></a>"
      ]
    },
    {
      "cell_type": "code",
      "execution_count": 1,
      "metadata": {
        "id": "NbB2R_czZs3u"
      },
      "outputs": [],
      "source": [
        "#define global variable\n",
        "x=0"
      ]
    },
    {
      "cell_type": "code",
      "source": [
        "def increment():\n",
        "  global x\n",
        "  x+=1"
      ],
      "metadata": {
        "id": "cJJ9FcW_cRDU"
      },
      "execution_count": 2,
      "outputs": []
    },
    {
      "cell_type": "code",
      "source": [
        "print(x)"
      ],
      "metadata": {
        "colab": {
          "base_uri": "https://localhost:8080/"
        },
        "id": "vacFH1y5cccg",
        "outputId": "e4d46788-b760-42e1-ab21-4c97bbda8cd5"
      },
      "execution_count": 3,
      "outputs": [
        {
          "output_type": "stream",
          "name": "stdout",
          "text": [
            "0\n"
          ]
        }
      ]
    },
    {
      "cell_type": "code",
      "source": [
        "increment()\n",
        "print(x)"
      ],
      "metadata": {
        "colab": {
          "base_uri": "https://localhost:8080/"
        },
        "id": "12Qz8BXmcf-2",
        "outputId": "4060d2c9-e039-4fdc-ad0b-f0c82389c8e5"
      },
      "execution_count": 4,
      "outputs": [
        {
          "output_type": "stream",
          "name": "stdout",
          "text": [
            "1\n"
          ]
        }
      ]
    },
    {
      "cell_type": "code",
      "source": [
        "increment()\n",
        "print(x)"
      ],
      "metadata": {
        "colab": {
          "base_uri": "https://localhost:8080/"
        },
        "id": "gqvCkizJh3kC",
        "outputId": "e76a19a5-7e26-4f7f-f372-e3e1ff07ef4f"
      },
      "execution_count": 19,
      "outputs": [
        {
          "output_type": "stream",
          "name": "stdout",
          "text": [
            "2\n"
          ]
        }
      ]
    },
    {
      "cell_type": "code",
      "source": [
        "def show_count():\n",
        "  local_count = 0\n",
        "  local_count += 1\n",
        "  print(local_count)"
      ],
      "metadata": {
        "id": "dyUj822cc46a"
      },
      "execution_count": 9,
      "outputs": []
    },
    {
      "cell_type": "code",
      "source": [
        "show_count()\n",
        "show_count()"
      ],
      "metadata": {
        "colab": {
          "base_uri": "https://localhost:8080/"
        },
        "id": "uTdTGSSSdHgE",
        "outputId": "a0dd3635-b7f1-4540-8ea2-b76e3c105fcf"
      },
      "execution_count": 11,
      "outputs": [
        {
          "output_type": "stream",
          "name": "stdout",
          "text": [
            "1\n",
            "1\n"
          ]
        }
      ]
    },
    {
      "cell_type": "code",
      "source": [
        "class Person:\n",
        "  def __init__(self, name, age):\n",
        "    self.name = name\n",
        "    self.age = age\n",
        "\n",
        "  def greet(self):\n",
        "    print(f\"Hello, my name is {self.name}, and I am {self.age} years old.\")\n",
        "\n",
        ""
      ],
      "metadata": {
        "id": "5HPV0TSld2mS"
      },
      "execution_count": 12,
      "outputs": []
    },
    {
      "cell_type": "code",
      "source": [
        "person1 = Person(\"Vini\",24)"
      ],
      "metadata": {
        "id": "pBTwCk1Eex5v"
      },
      "execution_count": 13,
      "outputs": []
    },
    {
      "cell_type": "code",
      "source": [
        "person1.greet()"
      ],
      "metadata": {
        "colab": {
          "base_uri": "https://localhost:8080/"
        },
        "id": "HlCLV2GdeybZ",
        "outputId": "7b530bde-cb7e-41f0-f078-e6b430e4e663"
      },
      "execution_count": 14,
      "outputs": [
        {
          "output_type": "stream",
          "name": "stdout",
          "text": [
            "Hello, my name is Vini, and I am 24 years old.\n"
          ]
        }
      ]
    },
    {
      "cell_type": "code",
      "source": [
        "#Pass function\n",
        "def do_nothing():\n",
        "  pass"
      ],
      "metadata": {
        "id": "kXmCn3AKfN2_"
      },
      "execution_count": 15,
      "outputs": []
    },
    {
      "cell_type": "code",
      "source": [
        "do_nothing()"
      ],
      "metadata": {
        "id": "hNkRzFsTfXZh"
      },
      "execution_count": 16,
      "outputs": []
    },
    {
      "cell_type": "code",
      "source": [
        "#Using break statement\n",
        "print(\"Break statement:\")\n",
        "for i in range(5):\n",
        "  if i == 3:\n",
        "    break\n",
        "  print(i)"
      ],
      "metadata": {
        "colab": {
          "base_uri": "https://localhost:8080/"
        },
        "id": "LZCmOyfbgok2",
        "outputId": "d63bed4e-e67d-49a8-ebee-0edd7581a912"
      },
      "execution_count": 17,
      "outputs": [
        {
          "output_type": "stream",
          "name": "stdout",
          "text": [
            "Break statement:\n",
            "0\n",
            "1\n",
            "2\n"
          ]
        }
      ]
    },
    {
      "cell_type": "code",
      "source": [
        "#Using continue statement\n",
        "print(\"Continue Statement:\")\n",
        "for i in range(5):\n",
        "  if i == 2:\n",
        "    continue\n",
        "  print(i)"
      ],
      "metadata": {
        "colab": {
          "base_uri": "https://localhost:8080/"
        },
        "id": "VM17-rZng8jG",
        "outputId": "18200897-17ba-42f2-f4b8-c113c02cbdd4"
      },
      "execution_count": 18,
      "outputs": [
        {
          "output_type": "stream",
          "name": "stdout",
          "text": [
            "Continue Statement:\n",
            "0\n",
            "1\n",
            "3\n",
            "4\n"
          ]
        }
      ]
    },
    {
      "cell_type": "code",
      "source": [
        "#passing functions as arguments\n",
        "def shout(text):\n",
        " return text.upper() + \"!\"\n",
        "\n",
        "def whisper(text):\n",
        "  return text.lower() + \"...\""
      ],
      "metadata": {
        "id": "ItDVYWjph8P1"
      },
      "execution_count": 22,
      "outputs": []
    },
    {
      "cell_type": "code",
      "source": [
        "def greet(func, name):\n",
        "  message = func(name)\n",
        "  print(message)"
      ],
      "metadata": {
        "id": "I9CyChRIipn_"
      },
      "execution_count": 23,
      "outputs": []
    },
    {
      "cell_type": "code",
      "source": [
        "greet(shout, \"Hello\")"
      ],
      "metadata": {
        "colab": {
          "base_uri": "https://localhost:8080/"
        },
        "id": "ryDhqmF7i1Ga",
        "outputId": "7f884858-ab1d-4ee8-fd15-b8cc06e56a09"
      },
      "execution_count": 24,
      "outputs": [
        {
          "output_type": "stream",
          "name": "stdout",
          "text": [
            "HELLO!\n"
          ]
        }
      ]
    },
    {
      "cell_type": "code",
      "source": [
        "greet(whisper, \"Hello\")"
      ],
      "metadata": {
        "colab": {
          "base_uri": "https://localhost:8080/"
        },
        "id": "uHATybQ_i9Pr",
        "outputId": "eff44d53-3d44-482d-cbe3-02b44707f006"
      },
      "execution_count": 25,
      "outputs": [
        {
          "output_type": "stream",
          "name": "stdout",
          "text": [
            "hello...\n"
          ]
        }
      ]
    },
    {
      "cell_type": "code",
      "source": [
        "#docstring in python\n",
        "def greet(name):\n",
        "  \"\"\"\n",
        "  This function greets the user with the provided name.\n",
        "  Parameters:\n",
        "  -name(str): The name of the person to greet.\n",
        "\n",
        "  Returns:\n",
        "  -str: A greeting message included with the name of the person.\n",
        "  \"\"\"\n",
        "  return f\"Hello, {name}! Welcome to the party. \""
      ],
      "metadata": {
        "id": "D5vxFWQxjaXA"
      },
      "execution_count": 26,
      "outputs": []
    },
    {
      "cell_type": "code",
      "source": [
        "print(greet.__doc__)\n",
        "greet(\"Michael\")"
      ],
      "metadata": {
        "colab": {
          "base_uri": "https://localhost:8080/",
          "height": 174
        },
        "id": "T3vYy1UCkImW",
        "outputId": "d0c0bcd9-5b96-49fe-d10c-7eb0f3f75107"
      },
      "execution_count": 29,
      "outputs": [
        {
          "output_type": "stream",
          "name": "stdout",
          "text": [
            "\n",
            "  This function greets the user with the provided name.\n",
            "  Parameters:\n",
            "  -name(str): The name of the person to greet.\n",
            "\n",
            "  Returns:\n",
            "  -str: A greeting message included with the name of the person.\n",
            "  \n"
          ]
        },
        {
          "output_type": "execute_result",
          "data": {
            "text/plain": [
              "'Hello, Michael! Welcome to the party. '"
            ],
            "application/vnd.google.colaboratory.intrinsic+json": {
              "type": "string"
            }
          },
          "metadata": {},
          "execution_count": 29
        }
      ]
    },
    {
      "cell_type": "code",
      "source": [
        "#remove() and pop() fxn\n",
        "list1 = [1,2,3,4]"
      ],
      "metadata": {
        "id": "gV9QcTOUma8c"
      },
      "execution_count": 33,
      "outputs": []
    },
    {
      "cell_type": "code",
      "source": [
        "# list1.remove(2)\n",
        "# print(list1)"
      ],
      "metadata": {
        "id": "s94h1ZN0mhGe"
      },
      "execution_count": 32,
      "outputs": []
    },
    {
      "cell_type": "code",
      "source": [
        "list1.pop(2)\n",
        "print(list1)"
      ],
      "metadata": {
        "colab": {
          "base_uri": "https://localhost:8080/"
        },
        "id": "3TM64dH4mt71",
        "outputId": "45c5d23b-dd1f-4c29-b32d-9284192cec7e"
      },
      "execution_count": 34,
      "outputs": [
        {
          "output_type": "stream",
          "name": "stdout",
          "text": [
            "[1, 2, 4]\n"
          ]
        }
      ]
    },
    {
      "cell_type": "code",
      "source": [
        "#derive a class\n",
        "class classname:\n",
        "  #constructor\n",
        "  def __init__(self, attr1, attr2):\n",
        "    self.attr1 = attr1\n",
        "    self.attr2 = attr2"
      ],
      "metadata": {
        "id": "ocr1qEs_nKdV"
      },
      "execution_count": 35,
      "outputs": []
    },
    {
      "cell_type": "code",
      "source": [
        "def method(self):\n",
        "  print(f\"attribute 1: {self.attr1}, attribute 2: {self.attr2}\")"
      ],
      "metadata": {
        "id": "LMyOxyirngMu"
      },
      "execution_count": 36,
      "outputs": []
    },
    {
      "cell_type": "code",
      "source": [
        "#bubble sort\n",
        "def bubble_sort(arr):\n",
        " n = len(arr)\n",
        "\n",
        " for i in range(n):\n",
        "  for j in range(0, n-i-1):\n",
        "    if arr[j] > arr[j+1]:\n",
        "      arr[j],arr[j+1] = arr[j+1],arr[j]"
      ],
      "metadata": {
        "id": "HnGvpBPcn4o5"
      },
      "execution_count": 45,
      "outputs": []
    },
    {
      "cell_type": "code",
      "source": [
        "arr = [91,22,43,64,35,54]\n",
        "\n",
        "print(\"Original array:\", arr)\n",
        "bubble_sort(arr)\n",
        "print(\"Sorted array:\",arr)"
      ],
      "metadata": {
        "colab": {
          "base_uri": "https://localhost:8080/"
        },
        "id": "gnvWPXgRqfxy",
        "outputId": "d604c3ce-3b6c-4056-d47f-309aff56a75a"
      },
      "execution_count": 46,
      "outputs": [
        {
          "output_type": "stream",
          "name": "stdout",
          "text": [
            "Original array: [91, 22, 43, 64, 35, 54]\n",
            "Sorted array: [22, 35, 43, 54, 64, 91]\n"
          ]
        }
      ]
    }
  ]
}